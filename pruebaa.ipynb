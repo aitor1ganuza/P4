{
 "metadata": {
  "language_info": {
   "codemirror_mode": {
    "name": "ipython",
    "version": 3
   },
   "file_extension": ".py",
   "mimetype": "text/x-python",
   "name": "python",
   "nbconvert_exporter": "python",
   "pygments_lexer": "ipython3",
   "version": "3.8.2-final"
  },
  "orig_nbformat": 2,
  "kernelspec": {
   "name": "python3",
   "display_name": "Python 3.8.2 64-bit",
   "metadata": {
    "interpreter": {
     "hash": "31f2aee4e71d21fbe5cf8b01ff0e069b9275f58929596ceb00d14d90e3e16cd6"
    }
   }
  }
 },
 "nbformat": 4,
 "nbformat_minor": 2,
 "cells": [
  {
   "cell_type": "code",
   "execution_count": 1,
   "metadata": {},
   "outputs": [],
   "source": [
    "import matplotlib.pyplot as plt\n",
    "import matplotlib.cbook as cbook\n",
    "import numpy as np\n",
    "\n"
   ]
  },
  {
   "cell_type": "code",
   "execution_count": null,
   "metadata": {},
   "outputs": [],
   "source": [
    "lp = np.loadtxt('lp_2_3.txt')\n",
    "lpcc = np.loadtxt('lpcc_2_3.txt')\n",
    "mfcc = np.loadtxt('mfcc_2_3.txt')\n",
    "\n",
    "fig, (axlp,axlpcc,axmfcc) = plt.subplots(3)\n",
    "fig.suptitle(\"Coeficientes 2 y 3 de las parametrizaciones LP, LPCC y MFCC de todas las señales de un locutor\")\n",
    "axlp.plot(lp[:, 0], lp[:, 1])\n",
    "axlpcc.plot(lpcc[:, 0], lpcc[:, 1])\n",
    "axmfcc.plot(mfcc[:, 0], mfcc[:, 1])\n",
    "axlp.set_title('LP')\n",
    "axlp.set(xlabel='Coeficientes 2', ylabel='Coeficientes 3')\n",
    "axlpcc.set_title('LPCC')\n",
    "axlpcc.set(xlabel='Coeficientes 2', ylabel='Coeficientes 3')\n",
    "axmfcc.set_title('MFCC')\n",
    "axmfcc.set(xlabel='Coeficientes 2', ylabel='Coeficientes 3')\n",
    "axlp.grid()\n",
    "axlpcc.grid()\n",
    "axmfcc.grid()\n",
    "plt.show()"
   ]
  }
 ]
}